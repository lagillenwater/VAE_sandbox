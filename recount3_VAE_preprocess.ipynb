{
 "cells": [
  {
   "cell_type": "markdown",
   "metadata": {},
   "source": [
    "# Introduction"
   ]
  },
  {
   "cell_type": "markdown",
   "metadata": {},
   "source": [
    "This is an exploration of autoencoders for representing gene expression data. The main question here is to to explore whether beta autoencoders better capture the variance in the data than vanilla autoencoders. This analysis will test the findings of Chow et al. on a different dataset.  "
   ]
  },
  {
   "cell_type": "markdown",
   "metadata": {},
   "source": [
    "## Setting up the environment\n",
    "* Specifically, I am setting up the analysis to be run in a GPU environment, if a GPU is present. \n"
   ]
  },
  {
   "cell_type": "code",
   "execution_count": 22,
   "metadata": {},
   "outputs": [],
   "source": [
    "import sys\n",
    "import pathlib\n",
    "import numpy as np\n",
    "import pandas as pd\n",
    "import scipy as sp\n",
    "sys.path.insert(0, \"../scripts\")\n",
    "from utils import load_data  \n",
    "from vae import VAE\n",
    "\n",
    "from sklearn.model_selection import train_test_split\n",
    "from sklearn import preprocessing\n",
    "\n",
    "import matplotlib.pyplot as plt\n",
    "from matplotlib.pyplot import figure\n",
    "\n",
    "from tensorflow import keras\n",
    "\n",
    "from tensorflow.keras.models import Model, Sequential\n",
    "import seaborn\n",
    "import random as python_random\n",
    "import tensorflow as tf\n",
    "\n",
    "output_dir = pathlib.Path(\"../data\")\n",
    "output_dir.mkdir(exist_ok=True)\n",
    "\n",
    "import pyreadr\n",
    "import pickle\n",
    "\n",
    "from sklearn.decomposition import PCA"
   ]
  },
  {
   "cell_type": "markdown",
   "metadata": {},
   "source": [
    "## Loading in the data\n",
    "Beginning with the data from GSEA-InContext\n"
   ]
  },
  {
   "cell_type": "code",
   "execution_count": 3,
   "metadata": {},
   "outputs": [],
   "source": [
    "# load the data\n",
    "# recount3 sample\n",
    "full_data = pyreadr.read_r('../../recount_sample.Rda')\n"
   ]
  },
  {
   "cell_type": "code",
   "execution_count": 4,
   "metadata": {},
   "outputs": [],
   "source": [
    "full_data = full_data[\"recount_expression\"]"
   ]
  },
  {
   "cell_type": "code",
   "execution_count": 5,
   "metadata": {},
   "outputs": [
    {
     "name": "stdout",
     "output_type": "stream",
     "text": [
      "full data shape (66484, 14534)\n"
     ]
    }
   ],
   "source": [
    "#print(\"sample shape\", sample_annotations.shape)\n",
    "print(\"full data shape\", full_data.shape)\n",
    "# columns are samples, rows are genes\n",
    "\n"
   ]
  },
  {
   "cell_type": "code",
   "execution_count": 17,
   "metadata": {},
   "outputs": [],
   "source": [
    "nonzero = full_data.astype(bool).sum(axis=1)\n",
    "#print full_data.astype(bool).sum(axis=1)"
   ]
  },
  {
   "cell_type": "code",
   "execution_count": 18,
   "metadata": {},
   "outputs": [
    {
     "data": {
      "text/plain": [
       "count    66484.000000\n",
       "mean       311.551291\n",
       "std        665.213805\n",
       "min          0.000000\n",
       "25%         26.000000\n",
       "50%         64.000000\n",
       "75%        167.000000\n",
       "max      10864.000000\n",
       "dtype: float64"
      ]
     },
     "execution_count": 18,
     "metadata": {},
     "output_type": "execute_result"
    }
   ],
   "source": [
    "nonzero.describe()\n"
   ]
  },
  {
   "cell_type": "code",
   "execution_count": 94,
   "metadata": {},
   "outputs": [],
   "source": [
    "todrop = nonzero < 167\n",
    "todrop = full_data.index.values[np.where(todrop)[0]]"
   ]
  },
  {
   "cell_type": "code",
   "execution_count": 135,
   "metadata": {},
   "outputs": [],
   "source": [
    "test = full_data.drop(todrop)"
   ]
  },
  {
   "cell_type": "code",
   "execution_count": 136,
   "metadata": {},
   "outputs": [
    {
     "data": {
      "text/plain": [
       "(16636, 14534)"
      ]
     },
     "execution_count": 136,
     "metadata": {},
     "output_type": "execute_result"
    }
   ],
   "source": [
    "test.shape"
   ]
  },
  {
   "cell_type": "code",
   "execution_count": 137,
   "metadata": {},
   "outputs": [],
   "source": [
    "test += 1e-6\n",
    "test = np.log2(test)"
   ]
  },
  {
   "cell_type": "code",
   "execution_count": 139,
   "metadata": {},
   "outputs": [],
   "source": [
    "scaler = preprocessing.MinMaxScaler(feature_range = (0,1))\n",
    "scaler = scaler.fit(test)"
   ]
  },
  {
   "cell_type": "code",
   "execution_count": 140,
   "metadata": {},
   "outputs": [
    {
     "data": {
      "text/plain": [
       "pandas.core.frame.DataFrame"
      ]
     },
     "execution_count": 140,
     "metadata": {},
     "output_type": "execute_result"
    }
   ],
   "source": [
    "test = scaler.transform(test)\n",
    "\n",
    "test = pd.DataFrame(test)\n",
    "type(test)"
   ]
  },
  {
   "cell_type": "code",
   "execution_count": 141,
   "metadata": {},
   "outputs": [],
   "source": [
    "pca=PCA(n_components = 2)\n",
    "pca.fit(test)\n",
    "pca_full = pca.transform(test)\n",
    "\n",
    "                 "
   ]
  },
  {
   "cell_type": "code",
   "execution_count": 142,
   "metadata": {},
   "outputs": [],
   "source": [
    "pca_full = pd.DataFrame(pca_full)"
   ]
  },
  {
   "cell_type": "code",
   "execution_count": 99,
   "metadata": {},
   "outputs": [],
   "source": [
    "# z_0 = sp.stats.zscore(pca_full[0])\n",
    "# z_1 = sp.stats.zscore(pca_full[1])"
   ]
  },
  {
   "cell_type": "code",
   "execution_count": 100,
   "metadata": {},
   "outputs": [],
   "source": [
    "# z_0_outliers = z_0 > 3\n",
    "# z_1_outliers = z_1 > 3"
   ]
  },
  {
   "cell_type": "code",
   "execution_count": 101,
   "metadata": {},
   "outputs": [
    {
     "name": "stdout",
     "output_type": "stream",
     "text": [
      "[34758 34775 34783 35212 35216 35298 35299 35309 35310 35315 35413 35626\n",
      " 36235 36238 36384]\n"
     ]
    },
    {
     "data": {
      "text/plain": [
       "array([29286, 29556])"
      ]
     },
     "execution_count": 101,
     "metadata": {},
     "output_type": "execute_result"
    }
   ],
   "source": [
    "# print(np.where(z_0_outliers)[0])\n",
    "# np.where(z_1_outliers)[0]\n"
   ]
  },
  {
   "cell_type": "code",
   "execution_count": 84,
   "metadata": {},
   "outputs": [
    {
     "data": {
      "text/plain": [
       "array(['SRR2963837', 'SRR3191737', 'SRR3191748', 'SRR3191752',\n",
       "       'SRR3191755', 'SRR3192067', 'SRR3192204', 'SRR3192037',\n",
       "       'SRR3192038', 'SRR3192053', 'SRR3192054', 'SRR3192068',\n",
       "       'SRR3192205', 'SRR3192228', 'SRR3192435', 'SRR3192436',\n",
       "       'SRR3192149', 'SRR3192150', 'SRR3192294', 'SRR3192295',\n",
       "       'ERR2568931', 'ERR2569315'], dtype=object)"
      ]
     },
     "execution_count": 84,
     "metadata": {},
     "output_type": "execute_result"
    }
   ],
   "source": [
    "# toremove = [17178, 34758, 34775, 34783, 34787 ,35212 ,35216 ,35298 ,35299 ,35309 ,35310, 35315,\n",
    "#  35413, 35427, 35626, 35628, 36235, 36238, 36384 ,36385,29286, 29556 ]\n",
    "# toremove = full_data.index.values[toremove]\n",
    "# toremove"
   ]
  },
  {
   "cell_type": "code",
   "execution_count": 102,
   "metadata": {},
   "outputs": [],
   "source": [
    "# full_data = full_data.drop(labels = toremove)"
   ]
  },
  {
   "cell_type": "code",
   "execution_count": 143,
   "metadata": {},
   "outputs": [
    {
     "data": {
      "text/plain": [
       "<matplotlib.collections.PathCollection at 0x7fa0bcdbc9e8>"
      ]
     },
     "execution_count": 143,
     "metadata": {},
     "output_type": "execute_result"
    },
    {
     "data": {
      "image/png": "[encoded data removed]",
      "text/plain": [
       "<Figure size 800x800 with 1 Axes>"
      ]
     },
     "metadata": {
      "needs_background": "light"
     },
     "output_type": "display_data"
    }
   ],
   "source": [
    "figure(figsize=(10, 10), dpi=80)\n",
    "plt.scatter(pca_full[0],pca_full[1], marker = \".\")\n",
    "#plt.scatter(pca_reconstruction[0],pca_reconstruction[1], marker = \".\", alpha = 0.05)\n",
    "#plt.xlim([0,.15])\n",
    "#plt.ylim([0,.15])"
   ]
  },
  {
   "cell_type": "code",
   "execution_count": null,
   "metadata": {},
   "outputs": [],
   "source": []
  },
  {
   "cell_type": "code",
   "execution_count": 6,
   "metadata": {},
   "outputs": [
    {
     "data": {
      "text/plain": [
       "(66484, 14534)"
      ]
     },
     "execution_count": 6,
     "metadata": {},
     "output_type": "execute_result"
    }
   ],
   "source": [
    "# scaler = preprocessing.MinMaxScaler(feature_range=(0,1))\n",
    "# scaler.fit(full_data)\n",
    "# minmax_full_data = scaler.transform(full_data)\n",
    "# minmax_full_data.shape"
   ]
  },
  {
   "cell_type": "code",
   "execution_count": 13,
   "metadata": {},
   "outputs": [],
   "source": [
    "# minmax_full_data = pd.DataFrame(minmax_full_data)"
   ]
  },
  {
   "cell_type": "markdown",
   "metadata": {},
   "source": [
    "## Splitting the data\n",
    "Splitting the data into train, test, and validation datasets (80%,10%,10%). \n",
    "\n",
    "* Do I need to consider the experiment assignments in splitting the data?\n",
    "* I think so, currently stratifying by sample_group variable. This should ensure that the train and test groups have similar amounts of experiment and control data. \n",
    "* Actually, on second thought,this may be prohibitive. It reduces the amount of training data to datasets with annotations, while previous experiments have shown that differential expression can be reproduced by simply sampling from the entire data. This is the point of being able to find the specifically expressed genes without metadata.\n"
   ]
  },
  {
   "cell_type": "code",
   "execution_count": 128,
   "metadata": {},
   "outputs": [],
   "source": [
    "test_split = .3\n",
    "seed = 42\n",
    "\n",
    "# Split data\n",
    "train_df, test_df = train_test_split(\n",
    "    test,\n",
    "    test_size=test_split,\n",
    "    random_state=seed,\n",
    "#    stratify = sample_annotations.cell_type,\n",
    ")\n",
    "\n",
    "test_df, valid_df = train_test_split(\n",
    "    test_df,\n",
    "    test_size=0.5,\n",
    "    random_state=seed\n",
    ")\n"
   ]
  },
  {
   "cell_type": "code",
   "execution_count": 129,
   "metadata": {},
   "outputs": [
    {
     "name": "stdout",
     "output_type": "stream",
     "text": [
      "(11645, 14534)\n",
      "(2495, 14534)\n",
      "(2496, 14534)\n"
     ]
    }
   ],
   "source": [
    "print(train_df.shape)\n",
    "print(test_df.shape)\n",
    "print(valid_df.shape)"
   ]
  },
  {
   "cell_type": "code",
   "execution_count": 18,
   "metadata": {},
   "outputs": [
    {
     "data": {
      "text/plain": [
       "2.1556682959713225"
      ]
     },
     "execution_count": 18,
     "metadata": {},
     "output_type": "execute_result"
    }
   ],
   "source": [
    "#sum(train_df[train_df.columns[1]])"
   ]
  },
  {
   "cell_type": "markdown",
   "metadata": {},
   "source": [
    "## Normalization \n",
    "* Normalizing each dataset separately to avoid data leakage from one dataset to another.\n",
    "* [0,1]"
   ]
  },
  {
   "cell_type": "code",
   "execution_count": 4,
   "metadata": {},
   "outputs": [],
   "source": [
    "#min_max_scaler = preprocessing.MinMaxScaler(feature_range=(0,1))\n",
    "# minmax_train = pd.DataFrame(min_max_scaler.fit_transform(train_df), \n",
    "#                             columns = train_df.columns.values,\n",
    "#                             index = train_df.index.values)\n",
    "# minmax_test = pd.DataFrame(min_max_scaler.fit_transform(test_df), \n",
    "#                             columns = test_df.columns.values,\n",
    "#                             index = test_df.index.values)\n",
    "\n",
    "# minmax_valid = pd.DataFrame(min_max_scaler.fit_transform(valid_df), \n",
    "#                             columns = valid_df.columns.values,\n",
    "#                             index = valid_df.index.values)\n",
    "# # minmax_valid = pd.DataFrame(min_max_scaler.fit_transform(full_data_t), \n",
    "# #                             columns = full_data_t.columns.values,\n",
    "# #                             index = full_data_t.index.values)\n",
    "\n",
    "\n"
   ]
  },
  {
   "cell_type": "code",
   "execution_count": 131,
   "metadata": {},
   "outputs": [],
   "source": [
    "# # Output data splits\n",
    "# train_file = pathlib.Path(output_dir, \"recount3_sample_train.tsv.gz\")\n",
    "# test_file = pathlib.Path(output_dir, \"recount3_sample_test.tsv.gz\")\n",
    "# valid_file = pathlib.Path(output_dir, \"recount3_sample_valid.tsv.gz\")\n",
    "# complete_file = pathlib.Path(output_dir, \"recount3_sample_complete.tsv.gz\")\n",
    "\n",
    "# train_df.to_csv(train_file, sep=\"\\t\", index=False, float_format=\"%.5g\")\n",
    "# test_df.to_csv(test_file, sep=\"\\t\", index=False, float_format=\"%.5g\")\n",
    "# valid_df.to_csv(valid_file, sep=\"\\t\", index=False, float_format=\"%.5g\")\n",
    "test.to_csv(complete_file, sep=\"\\t\", index=False, float_format=\"%.5g\")"
   ]
  },
  {
   "cell_type": "code",
   "execution_count": 144,
   "metadata": {},
   "outputs": [],
   "source": [
    "scaler_filename = \"./full_data_scaler.pkl\"\n",
    "pickle.dump(scaler, open(scaler_filename, \"wb\"))"
   ]
  }
 ],
 "metadata": {
  "kernelspec": {
   "display_name": "Python 3 (ipykernel)",
   "language": "python",
   "name": "python3"
  },
  "language_info": {
   "codemirror_mode": {
    "name": "ipython",
    "version": 3
   },
   "file_extension": ".py",
   "mimetype": "text/x-python",
   "name": "python",
   "nbconvert_exporter": "python",
   "pygments_lexer": "ipython3",
   "version": "3.7.10"
  }
 },
 "nbformat": 4,
 "nbformat_minor": 4
}
